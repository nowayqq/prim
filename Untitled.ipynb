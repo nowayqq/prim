{
 "cells": [
  {
   "cell_type": "markdown",
   "id": "26f2d7af",
   "metadata": {},
   "source": [
    "# Несколько проектов из гитхаба"
   ]
  },
  {
   "cell_type": "code",
   "execution_count": 6,
   "id": "9e1937a1",
   "metadata": {},
   "outputs": [],
   "source": [
    "import pandas as pd # for tasks 1, \n",
    "import numpy as np # for tasks 1, \n",
    "\n",
    "import warnings\n",
    "warnings.filterwarnings('ignore')"
   ]
  },
  {
   "cell_type": "markdown",
   "id": "3c90959c",
   "metadata": {},
   "source": [
    "## task 1\n",
    "## https://github.com/nowayqq/test_mindbox"
   ]
  },
  {
   "cell_type": "markdown",
   "id": "977843dc",
   "metadata": {},
   "source": [
    "### Дополнительная функция"
   ]
  },
  {
   "cell_type": "code",
   "execution_count": 2,
   "id": "23c2f7e5",
   "metadata": {},
   "outputs": [],
   "source": [
    "def sum_of_digits(num):\n",
    "\n",
    "    summ = 0\n",
    "\n",
    "    while num > 0:\n",
    "        digit = num % 10\n",
    "        summ += digit\n",
    "        num //= 10\n",
    "\n",
    "    return summ"
   ]
  },
  {
   "cell_type": "markdown",
   "id": "9d233f5f",
   "metadata": {},
   "source": [
    "### Реализация без библиотек"
   ]
  },
  {
   "cell_type": "code",
   "execution_count": 3,
   "id": "11df5d85",
   "metadata": {},
   "outputs": [
    {
     "name": "stdout",
     "output_type": "stream",
     "text": [
      "[32, 32, 21, 17, 32]\n",
      "{21: 1, 17: 1, 32: 3}\n"
     ]
    }
   ],
   "source": [
    "def group_score(arr, n_customers):\n",
    "\n",
    "    unique_groups = dict()\n",
    "\n",
    "    for i in range(n_customers):\n",
    "        if arr[i] not in unique_groups:\n",
    "            unique_groups[arr[i]] = 1\n",
    "        else:\n",
    "            unique_groups[arr[i]] += 1\n",
    "\n",
    "    return dict(sorted(unique_groups.items(), key=lambda value: value[1]))\n",
    "\n",
    "\n",
    "data = [7412567, 7412576, 12576, 12554, 888431]\n",
    "groups = []\n",
    "\n",
    "for item in data:\n",
    "    groups.append(sum_of_digits(item))\n",
    "\n",
    "print(groups)\n",
    "print(group_score(groups, len(groups)))"
   ]
  },
  {
   "cell_type": "markdown",
   "id": "b6b45131",
   "metadata": {},
   "source": [
    "### Реализация через массивы"
   ]
  },
  {
   "cell_type": "code",
   "execution_count": 4,
   "id": "63993d8b",
   "metadata": {},
   "outputs": [
    {
     "name": "stdout",
     "output_type": "stream",
     "text": [
      "[[17  1]\n",
      " [21  1]\n",
      " [32  3]]\n"
     ]
    }
   ],
   "source": [
    "def group_score(arr):\n",
    "\n",
    "    return np.asarray(np.unique(arr, return_counts=True)).T\n",
    "\n",
    "\n",
    "data = np.array([7412567, 7412576, 12576, 12554, 888431])\n",
    "groups = []\n",
    "\n",
    "for item in data:\n",
    "    groups.append(sum_of_digits(item))\n",
    "\n",
    "print(group_score(groups))"
   ]
  },
  {
   "cell_type": "markdown",
   "id": "d069ed52",
   "metadata": {},
   "source": [
    "### Реализация через датафреймы"
   ]
  },
  {
   "cell_type": "code",
   "execution_count": 7,
   "id": "9c1eb257",
   "metadata": {},
   "outputs": [
    {
     "name": "stdout",
     "output_type": "stream",
     "text": [
      "        ID    name  group\n",
      "0  7412567   Johan     32\n",
      "1  7412576    John     32\n",
      "2    12576  Joseph     21\n",
      "3    12554   Arbuz     17\n",
      "4   888431  Zuhrat     32\n",
      "       ID  name\n",
      "group          \n",
      "17      1     1\n",
      "21      1     1\n",
      "32      3     3\n"
     ]
    }
   ],
   "source": [
    "def group_score(df):\n",
    "\n",
    "    return df.groupby('group').count()\n",
    "\n",
    "\n",
    "data = pd.read_csv('data/data1.csv')\n",
    "data['group'] = 0\n",
    "\n",
    "for i in range(len(data.ID)):\n",
    "    data.loc[:, 'group'][i] = sum_of_digits(data.loc[:, 'ID'][i])\n",
    "\n",
    "print(data)\n",
    "print(group_score(data))"
   ]
  },
  {
   "cell_type": "markdown",
   "id": "af4e3d4c",
   "metadata": {},
   "source": [
    "## task 2\n",
    "## "
   ]
  },
  {
   "cell_type": "code",
   "execution_count": null,
   "id": "f668a07a",
   "metadata": {},
   "outputs": [],
   "source": []
  }
 ],
 "metadata": {
  "kernelspec": {
   "display_name": "Python 3 (ipykernel)",
   "language": "python",
   "name": "python3"
  },
  "language_info": {
   "codemirror_mode": {
    "name": "ipython",
    "version": 3
   },
   "file_extension": ".py",
   "mimetype": "text/x-python",
   "name": "python",
   "nbconvert_exporter": "python",
   "pygments_lexer": "ipython3",
   "version": "3.9.12"
  }
 },
 "nbformat": 4,
 "nbformat_minor": 5
}
