{
 "cells": [
  {
   "cell_type": "markdown",
   "id": "efcbed89",
   "metadata": {},
   "source": [
    "# Несколько проектов из гитхаба"
   ]
  },
  {
   "cell_type": "markdown",
   "id": "c8ad327c",
   "metadata": {},
   "source": [
    "## Необходимые импорты"
   ]
  },
  {
   "cell_type": "code",
   "execution_count": 1,
   "id": "063a87c1",
   "metadata": {},
   "outputs": [],
   "source": [
    "import pandas as pd                     # for tasks 1, 2\n",
    "import numpy as np                      # for tasks 1, 2\n",
    "\n",
    "import PIL.Image                        # for task 2\n",
    "import glob                             # for task 2\n",
    "\n",
    "from sys import exit                    # for task 2\n",
    "from keras.models import load_model     # for task 2\n",
    "\n",
    "import warnings\n",
    "warnings.filterwarnings('ignore')"
   ]
  },
  {
   "cell_type": "markdown",
   "id": "67b8149e",
   "metadata": {},
   "source": [
    "## task 1\n",
    "## https://github.com/nowayqq/test_mindbox"
   ]
  },
  {
   "cell_type": "markdown",
   "id": "3e78a01b",
   "metadata": {},
   "source": [
    "### Дополнительная функция"
   ]
  },
  {
   "cell_type": "code",
   "execution_count": 3,
   "id": "842aec84",
   "metadata": {},
   "outputs": [],
   "source": [
    "def sum_of_digits(num):\n",
    "\n",
    "    summ = 0\n",
    "\n",
    "    while num > 0:\n",
    "        digit = num % 10\n",
    "        summ += digit\n",
    "        num //= 10\n",
    "\n",
    "    return summ"
   ]
  },
  {
   "cell_type": "markdown",
   "id": "7bd27c70",
   "metadata": {},
   "source": [
    "### Реализация без библиотек"
   ]
  },
  {
   "cell_type": "code",
   "execution_count": 4,
   "id": "b055667b",
   "metadata": {},
   "outputs": [
    {
     "name": "stdout",
     "output_type": "stream",
     "text": [
      "[32, 32, 21, 17, 32]\n",
      "{21: 1, 17: 1, 32: 3}\n"
     ]
    }
   ],
   "source": [
    "def group_score(arr, n_customers):\n",
    "\n",
    "    unique_groups = dict()\n",
    "\n",
    "    for i in range(n_customers):\n",
    "        if arr[i] not in unique_groups:\n",
    "            unique_groups[arr[i]] = 1\n",
    "        else:\n",
    "            unique_groups[arr[i]] += 1\n",
    "\n",
    "    return dict(sorted(unique_groups.items(), key=lambda value: value[1]))\n",
    "\n",
    "\n",
    "data = [7412567, 7412576, 12576, 12554, 888431]\n",
    "groups = []\n",
    "\n",
    "for item in data:\n",
    "    groups.append(sum_of_digits(item))\n",
    "\n",
    "print(groups)\n",
    "print(group_score(groups, len(groups)))"
   ]
  },
  {
   "cell_type": "markdown",
   "id": "477c9bb7",
   "metadata": {},
   "source": [
    "### Реализация через массивы"
   ]
  },
  {
   "cell_type": "code",
   "execution_count": 5,
   "id": "e380aeee",
   "metadata": {},
   "outputs": [
    {
     "name": "stdout",
     "output_type": "stream",
     "text": [
      "[[17  1]\n",
      " [21  1]\n",
      " [32  3]]\n"
     ]
    }
   ],
   "source": [
    "def group_score(arr):\n",
    "\n",
    "    return np.asarray(np.unique(arr, return_counts=True)).T\n",
    "\n",
    "\n",
    "data = np.array([7412567, 7412576, 12576, 12554, 888431])\n",
    "groups = []\n",
    "\n",
    "for item in data:\n",
    "    groups.append(sum_of_digits(item))\n",
    "\n",
    "print(group_score(groups))"
   ]
  },
  {
   "cell_type": "markdown",
   "id": "92725d5f",
   "metadata": {},
   "source": [
    "### Реализация через датафреймы"
   ]
  },
  {
   "cell_type": "code",
   "execution_count": 6,
   "id": "748d1290",
   "metadata": {},
   "outputs": [
    {
     "name": "stdout",
     "output_type": "stream",
     "text": [
      "        ID    name  group\n",
      "0  7412567   Johan     32\n",
      "1  7412576    John     32\n",
      "2    12576  Joseph     21\n",
      "3    12554   Arbuz     17\n",
      "4   888431  Zuhrat     32\n",
      "       ID  name\n",
      "group          \n",
      "17      1     1\n",
      "21      1     1\n",
      "32      3     3\n"
     ]
    }
   ],
   "source": [
    "def group_score(df):\n",
    "\n",
    "    return df.groupby('group').count()\n",
    "\n",
    "\n",
    "data = pd.read_csv('data/data1.csv')\n",
    "data['group'] = 0\n",
    "\n",
    "for i in range(len(data.ID)):\n",
    "    data.loc[:, 'group'][i] = sum_of_digits(data.loc[:, 'ID'][i])\n",
    "\n",
    "print(data)\n",
    "print(group_score(data))"
   ]
  },
  {
   "cell_type": "markdown",
   "id": "0b0fbfde",
   "metadata": {},
   "source": [
    "## task 2\n",
    "## https://github.com/nowayqq/cnn-for-images"
   ]
  },
  {
   "cell_type": "markdown",
   "id": "0be2e930",
   "metadata": {},
   "source": [
    "### Ручная проверка моей нейронной сети"
   ]
  },
  {
   "cell_type": "markdown",
   "id": "c4a83153",
   "metadata": {},
   "source": [
    "### Загрузка обученной модели и определение классов"
   ]
  },
  {
   "cell_type": "code",
   "execution_count": 7,
   "id": "66d76bb9",
   "metadata": {},
   "outputs": [],
   "source": [
    "model = load_model('data/model.h5')\n",
    "dataset_path = \"data/your_images/\"\n",
    "classes = np.array(['airplane', 'automobile', 'bird',\n",
    "                    'cat', 'deer', 'dog', 'frog',\n",
    "                    'horse', 'ship', 'truck'])"
   ]
  },
  {
   "cell_type": "markdown",
   "id": "b1c495ee",
   "metadata": {},
   "source": [
    "### Подготовка изображений"
   ]
  },
  {
   "cell_type": "code",
   "execution_count": 8,
   "id": "e24ed936",
   "metadata": {},
   "outputs": [],
   "source": [
    "images = []\n",
    "\n",
    "for filename in glob.glob(f'{dataset_path}/*.jpg'):\n",
    "    im = PIL.Image.open(filename)\n",
    "    im = im.resize((32, 32), PIL.Image.Resampling.LANCZOS)\n",
    "    if im in images:\n",
    "        continue\n",
    "    images.append(im)\n",
    "\n",
    "if len(images) == 0:\n",
    "    exit(f'No images in {dataset_path} directory\\n' +\n",
    "         'Note: \\'.jpg\\' is only acceptable format')\n",
    "\n",
    "for i in range(len(images)):\n",
    "    images[i] = np.array(images[i])\n",
    "\n",
    "images = np.array(images).astype('float32') / 255.0"
   ]
  },
  {
   "cell_type": "markdown",
   "id": "f799cf9c",
   "metadata": {},
   "source": [
    "### Предсказание и вывод результатов"
   ]
  },
  {
   "cell_type": "code",
   "execution_count": 9,
   "id": "330b094b",
   "metadata": {},
   "outputs": [
    {
     "name": "stdout",
     "output_type": "stream",
     "text": [
      "1/1 [==============================] - 4s 4s/step\n",
      "The img0 was predicted to be a airplane with 94.5 percent\n",
      "The img1 was predicted to be a cat with 48.27 percent\n",
      "The img2 was predicted to be a dog with 99.83 percent\n",
      "The img3 was predicted to be a dog with 93.11 percent\n",
      "The img4 was predicted to be a automobile with 99.97 percent\n",
      "The img5 was predicted to be a automobile with 100.0 percent\n",
      "The img6 was predicted to be a cat with 70.94 percent\n",
      "The img7 was predicted to be a bird with 80.39 percent\n",
      "The img8 was predicted to be a dog with 84.14 percent\n",
      "The img9 was predicted to be a bird with 76.21 percent\n",
      "The img10 was predicted to be a cat with 53.08 percent\n",
      "The img11 was predicted to be a cat with 46.18 percent\n"
     ]
    }
   ],
   "source": [
    "pred = model.predict(images)\n",
    "\n",
    "df = pd.DataFrame(np.round(pred * 100, 2))\n",
    "df.columns = classes\n",
    "\n",
    "arr = []\n",
    "\n",
    "for i in range(len(df.index)):\n",
    "    for item in df:\n",
    "        for value in df[item]:\n",
    "            if value == df.iloc[i].max():\n",
    "                arr.append((item, value))\n",
    "\n",
    "for i in range(len(arr)):\n",
    "    print(f'The img{df.index[i]} was predicted to be a ' +\n",
    "          f'{arr[i][0]} with {np.round(arr[i][1], 2)} percent')"
   ]
  }
 ],
 "metadata": {
  "kernelspec": {
   "display_name": "Python 3 (ipykernel)",
   "language": "python",
   "name": "python3"
  },
  "language_info": {
   "codemirror_mode": {
    "name": "ipython",
    "version": 3
   },
   "file_extension": ".py",
   "mimetype": "text/x-python",
   "name": "python",
   "nbconvert_exporter": "python",
   "pygments_lexer": "ipython3",
   "version": "3.9.12"
  }
 },
 "nbformat": 4,
 "nbformat_minor": 5
}
