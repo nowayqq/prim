{
 "cells": [
  {
   "cell_type": "markdown",
   "id": "49d53795",
   "metadata": {},
   "source": [
    "# Несколько проектов из гитхаба"
   ]
  },
  {
   "cell_type": "code",
   "execution_count": null,
   "id": "ae7a4776",
   "metadata": {},
   "outputs": [],
   "source": [
    "import pandas as pd # for tasks 1, \n",
    "import numpy as np # for tasks 1, "
   ]
  },
  {
   "cell_type": "markdown",
   "id": "3537637e",
   "metadata": {},
   "source": [
    "## task 1\n",
    "## https://github.com/nowayqq/test_mindbox"
   ]
  },
  {
   "cell_type": "markdown",
   "id": "ee0e78c1",
   "metadata": {},
   "source": [
    "### Дополнительная функция"
   ]
  },
  {
   "cell_type": "code",
   "execution_count": null,
   "id": "7975dbe8",
   "metadata": {},
   "outputs": [],
   "source": [
    "def sum_of_digits(num):\n",
    "\n",
    "    summ = 0\n",
    "\n",
    "    while num > 0:\n",
    "        digit = num % 10\n",
    "        summ += digit\n",
    "        num //= 10\n",
    "\n",
    "    return summ"
   ]
  },
  {
   "cell_type": "markdown",
   "id": "63cc7e32",
   "metadata": {},
   "source": [
    "### Реализация без библиотек"
   ]
  },
  {
   "cell_type": "code",
   "execution_count": null,
   "id": "3a2f8d5b",
   "metadata": {},
   "outputs": [],
   "source": [
    "from sum_dig import sum_of_digits\n",
    "\n",
    "\n",
    "def group_score(arr, n_customers):\n",
    "\n",
    "    unique_groups = dict()\n",
    "\n",
    "    for i in range(n_customers):\n",
    "        if arr[i] not in unique_groups:\n",
    "            unique_groups[arr[i]] = 1\n",
    "        else:\n",
    "            unique_groups[arr[i]] += 1\n",
    "\n",
    "    return dict(sorted(unique_groups.items(), key=lambda value: value[1]))\n",
    "\n",
    "\n",
    "data = [7412567, 7412576, 12576, 12554, 888431]\n",
    "groups = []\n",
    "\n",
    "for item in data:\n",
    "    groups.append(sum_of_digits(item))\n",
    "\n",
    "print(groups)\n",
    "print(group_score(groups, len(groups)))"
   ]
  },
  {
   "cell_type": "markdown",
   "id": "69bb8cbb",
   "metadata": {},
   "source": [
    "### Реализация через массивы"
   ]
  },
  {
   "cell_type": "code",
   "execution_count": null,
   "id": "3dda96d2",
   "metadata": {},
   "outputs": [],
   "source": [
    "import numpy as np\n",
    "from sum_dig import sum_of_digits\n",
    "\n",
    "\n",
    "def group_score(arr):\n",
    "\n",
    "    return np.asarray(np.unique(arr, return_counts=True)).T\n",
    "\n",
    "\n",
    "data = np.array([7412567, 7412576, 12576, 12554, 888431])\n",
    "groups = []\n",
    "\n",
    "for item in data:\n",
    "    groups.append(sum_of_digits(item))\n",
    "\n",
    "print(group_score(groups))"
   ]
  },
  {
   "cell_type": "markdown",
   "id": "1e028687",
   "metadata": {},
   "source": [
    "### Реализация через датафреймы"
   ]
  },
  {
   "cell_type": "code",
   "execution_count": null,
   "id": "c9015267",
   "metadata": {},
   "outputs": [],
   "source": [
    "def group_score(df):\n",
    "\n",
    "    return df.groupby('group').count()\n",
    "\n",
    "\n",
    "data = pd.read_csv('data/data1.csv')\n",
    "data['group'] = 0\n",
    "\n",
    "for i in range(len(data.ID)):\n",
    "    data.loc[:, 'group'][i] = sum_of_digits(data.loc[:, 'ID'][i])\n",
    "\n",
    "print(data)\n",
    "print(group_score(data))"
   ]
  },
  {
   "cell_type": "markdown",
   "id": "8cf03e58",
   "metadata": {},
   "source": [
    "## task 2\n",
    "## "
   ]
  },
  {
   "cell_type": "code",
   "execution_count": null,
   "id": "7af28675",
   "metadata": {},
   "outputs": [],
   "source": []
  }
 ],
 "metadata": {
  "kernelspec": {
   "display_name": "Python 3 (ipykernel)",
   "language": "python",
   "name": "python3"
  },
  "language_info": {
   "codemirror_mode": {
    "name": "ipython",
    "version": 3
   },
   "file_extension": ".py",
   "mimetype": "text/x-python",
   "name": "python",
   "nbconvert_exporter": "python",
   "pygments_lexer": "ipython3",
   "version": "3.9.12"
  }
 },
 "nbformat": 4,
 "nbformat_minor": 5
}
